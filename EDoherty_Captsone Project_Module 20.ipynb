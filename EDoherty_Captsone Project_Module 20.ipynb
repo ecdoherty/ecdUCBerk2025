{
 "cells": [
  {
   "cell_type": "markdown",
   "id": "54a956e1-b595-4996-bec8-1889dce6c97a",
   "metadata": {},
   "source": [
    "# Research Question:\n",
    "\n",
    "Can machine-learning models reliably detect and risk-rank shadow-API calls?\n",
    "\n",
    "# Problem Statement:\n",
    "\n",
    "Companies experience difficulties managing API endpoints, resulting in greater risks and expanded attack surfaces. Traditional methods for discovering and managing rogue APIs are often manual, time-consuming, and prone to errors.\n",
    "\n",
    "# Solution Statement:\n",
    "\n",
    "Develop a machine-learning prototype capable of detecting shadow API calls and translating model outputs into low, medium, and high-risk Shadow API scores to guide proactive remediation."
   ]
  },
  {
   "cell_type": "code",
   "execution_count": 3,
   "id": "28b0390b-aafb-4363-b0f2-cc0b3e7a6c0b",
   "metadata": {},
   "outputs": [],
   "source": [
    "#Download and then extract the Kaggle Dataset"
   ]
  },
  {
   "cell_type": "code",
   "execution_count": 4,
   "id": "eb9c0702-288f-4343-8a73-d06dc0ee693d",
   "metadata": {},
   "outputs": [
    {
     "name": "stdout",
     "output_type": "stream",
     "text": [
      "Unzipped to: /Users/erindoherty/api-dataset\n"
     ]
    }
   ],
   "source": [
    "import zipfile\n",
    "import os\n",
    "\n",
    "zip_path = os.path.expanduser(\"~/api-access-behaviour-anomaly-dataset.zip\")\n",
    "extract_to = os.path.expanduser(\"~/api-dataset\")\n",
    "\n",
    "with zipfile.ZipFile(zip_path, 'r') as zip_ref:\n",
    "    zip_ref.extractall(extract_to)\n",
    "\n",
    "print(\"Unzipped to:\", extract_to)"
   ]
  },
  {
   "cell_type": "code",
   "execution_count": 5,
   "id": "5c491e79-1f29-48be-bdf5-2d57bb1cdf36",
   "metadata": {},
   "outputs": [],
   "source": [
    "#create a dataframe"
   ]
  },
  {
   "cell_type": "code",
   "execution_count": 6,
   "id": "c938b5ed-cc4e-4e8a-93e1-ddbe2abbf2a4",
   "metadata": {},
   "outputs": [
    {
     "name": "stdout",
     "output_type": "stream",
     "text": [
      "<class 'pandas.core.frame.DataFrame'>\n",
      "RangeIndex: 1699 entries, 0 to 1698\n",
      "Data columns (total 12 columns):\n",
      " #   Column                          Non-Null Count  Dtype  \n",
      "---  ------                          --------------  -----  \n",
      " 0   Unnamed: 0                      1699 non-null   int64  \n",
      " 1   _id                             1699 non-null   object \n",
      " 2   inter_api_access_duration(sec)  1695 non-null   float64\n",
      " 3   api_access_uniqueness           1695 non-null   float64\n",
      " 4   sequence_length(count)          1699 non-null   float64\n",
      " 5   vsession_duration(min)          1699 non-null   int64  \n",
      " 6   ip_type                         1699 non-null   object \n",
      " 7   num_sessions                    1699 non-null   float64\n",
      " 8   num_users                       1699 non-null   float64\n",
      " 9   num_unique_apis                 1699 non-null   float64\n",
      " 10  source                          1699 non-null   object \n",
      " 11  classification                  1699 non-null   object \n",
      "dtypes: float64(6), int64(2), object(4)\n",
      "memory usage: 159.4+ KB\n"
     ]
    }
   ],
   "source": [
    "import pandas as pd\n",
    "import os\n",
    "\n",
    "csv_path = os.path.expanduser(\"~/api-dataset/supervised_dataset.csv\")\n",
    "df = pd.read_csv(csv_path)\n",
    "\n",
    "df.info()"
   ]
  },
  {
   "cell_type": "code",
   "execution_count": 7,
   "id": "66221265-6b2a-43f5-b06a-c24062d4ba41",
   "metadata": {},
   "outputs": [],
   "source": [
    "#create synthetic dataset with Faker"
   ]
  },
  {
   "cell_type": "code",
   "execution_count": 8,
   "id": "887634a4-ef9c-4d59-9f7e-de6862342ea1",
   "metadata": {},
   "outputs": [
    {
     "name": "stdout",
     "output_type": "stream",
     "text": [
      "<class 'pandas.core.frame.DataFrame'>\n",
      "RangeIndex: 10000 entries, 0 to 9999\n",
      "Data columns (total 6 columns):\n",
      " #   Column         Non-Null Count  Dtype         \n",
      "---  ------         --------------  -----         \n",
      " 0   timestamp      10000 non-null  datetime64[ns]\n",
      " 1   api_endpoint   10000 non-null  object        \n",
      " 2   user_agent     10000 non-null  object        \n",
      " 3   response_time  10000 non-null  int64         \n",
      " 4   status_code    10000 non-null  int64         \n",
      " 5   is_shadow      10000 non-null  int64         \n",
      "dtypes: datetime64[ns](1), int64(3), object(2)\n",
      "memory usage: 468.9+ KB\n"
     ]
    }
   ],
   "source": [
    "from faker import Faker\n",
    "import pandas as pd\n",
    "import random\n",
    "\n",
    "fake = Faker()\n",
    "\n",
    "# Simulate a synthetic API call with features differing between normal and shadow (anomalous) behavior\n",
    "def create_api_call(is_shadow):\n",
    "    if is_shadow:\n",
    "        # Unusual shadow API behaviors\n",
    "        api_endpoint = fake.uri_path(deep=5) + '/secret'  # strange paths\n",
    "        user_agent = fake.user_agent() + \" suspicious\"\n",
    "        response_time = random.randint(500, 5000)  # slow responses (ms)\n",
    "        status_code = random.choice([401, 403, 500])  # error codes\n",
    "    else:\n",
    "        # Normal behaviors\n",
    "        api_endpoint = fake.uri_path(deep=2)\n",
    "        user_agent = fake.user_agent()\n",
    "        response_time = random.randint(50, 500)  # normal responses (ms)\n",
    "        status_code = random.choice([200, 201, 204])  # success codes\n",
    "\n",
    "    return {\n",
    "        'timestamp': fake.date_time_this_year(),\n",
    "        'api_endpoint': api_endpoint,\n",
    "        'user_agent': user_agent,\n",
    "        'response_time': response_time,\n",
    "        'status_code': status_code,\n",
    "        'is_shadow': int(is_shadow)\n",
    "    }\n",
    "\n",
    "# Generate a mixed dataset of synthetic API calls with a controlled ratio of shadow (anomalous) and normal traffic\n",
    "def generate_synthetic_api_data(num_samples=10000, shadow_ratio=0.1):\n",
    "    data = []\n",
    "    num_shadow = int(num_samples * shadow_ratio)\n",
    "\n",
    "    # Create shadow API calls\n",
    "    for _ in range(num_shadow):\n",
    "        data.append(create_api_call(is_shadow=True))\n",
    "\n",
    "    # Create normal API calls\n",
    "    for _ in range(num_samples - num_shadow):\n",
    "        data.append(create_api_call(is_shadow=False))\n",
    "\n",
    "    # Shuffle data to mix shadow and normal calls\n",
    "    random.shuffle(data)\n",
    "\n",
    "    return pd.DataFrame(data)\n",
    "\n",
    "# Actually generate the dataset!\n",
    "synthetic_api_df = generate_synthetic_api_data(10000, shadow_ratio=0.2)\n",
    "synthetic_api_df.info()\n"
   ]
  },
  {
   "cell_type": "code",
   "execution_count": 9,
   "id": "3a0df703-aa9e-4ae7-baa6-6dc15fd522fd",
   "metadata": {},
   "outputs": [],
   "source": [
    "#save the synthetic dataset to a csv"
   ]
  },
  {
   "cell_type": "code",
   "execution_count": 10,
   "id": "79f3aff9-bc5a-4c2d-8e6c-66532cc14512",
   "metadata": {},
   "outputs": [],
   "source": [
    "synthetic_api_df.to_csv(\"synthetic_api_data.csv\", index=False)"
   ]
  },
  {
   "cell_type": "code",
   "execution_count": 11,
   "id": "92eb389f-9906-457d-8f9b-cc3f38fb25e1",
   "metadata": {},
   "outputs": [],
   "source": [
    "synthetic_api_df = pd.read_csv(\"synthetic_api_data.csv\")"
   ]
  },
  {
   "cell_type": "code",
   "execution_count": 12,
   "id": "11667a90-232a-433b-865e-d0b2eea2648b",
   "metadata": {},
   "outputs": [
    {
     "name": "stdout",
     "output_type": "stream",
     "text": [
      "<class 'pandas.core.frame.DataFrame'>\n",
      "RangeIndex: 10000 entries, 0 to 9999\n",
      "Data columns (total 6 columns):\n",
      " #   Column         Non-Null Count  Dtype \n",
      "---  ------         --------------  ----- \n",
      " 0   timestamp      10000 non-null  object\n",
      " 1   api_endpoint   10000 non-null  object\n",
      " 2   user_agent     10000 non-null  object\n",
      " 3   response_time  10000 non-null  int64 \n",
      " 4   status_code    10000 non-null  int64 \n",
      " 5   is_shadow      10000 non-null  int64 \n",
      "dtypes: int64(3), object(3)\n",
      "memory usage: 468.9+ KB\n",
      "None\n",
      "       response_time   status_code    is_shadow\n",
      "count   10000.000000  10000.000000  10000.00000\n",
      "mean      765.380200    248.175100      0.20000\n",
      "std      1148.152549     95.196401      0.40002\n",
      "min        50.000000    200.000000      0.00000\n",
      "25%       193.000000    200.000000      0.00000\n",
      "50%       328.000000    201.000000      0.00000\n",
      "75%       471.000000    204.000000      0.00000\n",
      "max      4998.000000    500.000000      1.00000\n",
      "is_shadow\n",
      "0    8000\n",
      "1    2000\n",
      "Name: count, dtype: int64\n"
     ]
    }
   ],
   "source": [
    "#summarize my synthetic data\n",
    "# Dataset summary\n",
    "print(synthetic_api_df.info())\n",
    "\n",
    "# Statistics summary\n",
    "print(synthetic_api_df.describe())\n",
    "\n",
    "# Check class distribution (normal vs. shadow calls)\n",
    "print(synthetic_api_df['is_shadow'].value_counts())"
   ]
  },
  {
   "cell_type": "code",
   "execution_count": 13,
   "id": "2d96b003-0988-4547-936d-a6b217b2caa9",
   "metadata": {},
   "outputs": [],
   "source": [
    "#preprocess the synthetic dataset"
   ]
  },
  {
   "cell_type": "code",
   "execution_count": 14,
   "id": "088d95b9-8ae0-44d1-8f15-0d1bf822cf65",
   "metadata": {},
   "outputs": [
    {
     "name": "stdout",
     "output_type": "stream",
     "text": [
      "                    timestamp  response_time  is_shadow  status_200  \\\n",
      "0  2025-01-23 12:12:01.486916            173          0        True   \n",
      "1  2025-04-30 10:01:20.022814            146          0       False   \n",
      "2  2025-01-02 20:21:59.783845            482          0       False   \n",
      "3  2025-05-14 02:15:41.050078            268          0       False   \n",
      "4  2025-05-22 00:45:41.092267           3627          1       False   \n",
      "\n",
      "   status_201  status_204  status_401  status_403  status_500  \\\n",
      "0       False       False       False       False       False   \n",
      "1       False        True       False       False       False   \n",
      "2       False        True       False       False       False   \n",
      "3        True       False       False       False       False   \n",
      "4       False       False       False       False        True   \n",
      "\n",
      "   api_endpoint_encoded  user_agent_encoded  \n",
      "0                  1926                7771  \n",
      "1                   316                4819  \n",
      "2                  1407                6237  \n",
      "3                  1874                3621  \n",
      "4                   701                8532  \n"
     ]
    }
   ],
   "source": [
    "from sklearn.preprocessing import LabelEncoder, OneHotEncoder, StandardScaler\n",
    "\n",
    "#OHE on status_code column \n",
    "status_code_dummies = pd.get_dummies(synthetic_api_df['status_code'], prefix='status')\n",
    "synthetic_api_df = pd.concat([synthetic_api_df, status_code_dummies], axis=1)\n",
    "synthetic_api_df.drop('status_code', axis=1, inplace=True)\n",
    "\n",
    "#Label encoding for api_endpoint and user_agent columns\n",
    "\n",
    "api_encoder = LabelEncoder()\n",
    "synthetic_api_df['api_endpoint_encoded'] = api_encoder.fit_transform(synthetic_api_df['api_endpoint'])\n",
    "synthetic_api_df.drop('api_endpoint', axis=1, inplace=True)\n",
    "\n",
    "user_agent_encoder = LabelEncoder()\n",
    "synthetic_api_df['user_agent_encoded'] = user_agent_encoder.fit_transform(synthetic_api_df['user_agent'])\n",
    "synthetic_api_df.drop('user_agent', axis=1, inplace=True)\n",
    "\n",
    "print(synthetic_api_df.head())"
   ]
  },
  {
   "cell_type": "code",
   "execution_count": 15,
   "id": "4aad5580-1a18-4289-9b65-141c2fb98c48",
   "metadata": {},
   "outputs": [
    {
     "name": "stdout",
     "output_type": "stream",
     "text": [
      "<class 'pandas.core.frame.DataFrame'>\n",
      "RangeIndex: 1699 entries, 0 to 1698\n",
      "Data columns (total 12 columns):\n",
      " #   Column                          Non-Null Count  Dtype  \n",
      "---  ------                          --------------  -----  \n",
      " 0   Unnamed: 0                      1699 non-null   int64  \n",
      " 1   _id                             1699 non-null   object \n",
      " 2   inter_api_access_duration(sec)  1695 non-null   float64\n",
      " 3   api_access_uniqueness           1695 non-null   float64\n",
      " 4   sequence_length(count)          1699 non-null   float64\n",
      " 5   vsession_duration(min)          1699 non-null   int64  \n",
      " 6   ip_type                         1699 non-null   object \n",
      " 7   num_sessions                    1699 non-null   float64\n",
      " 8   num_users                       1699 non-null   float64\n",
      " 9   num_unique_apis                 1699 non-null   float64\n",
      " 10  source                          1699 non-null   object \n",
      " 11  classification                  1699 non-null   object \n",
      "dtypes: float64(6), int64(2), object(4)\n",
      "memory usage: 159.4+ KB\n",
      "None\n",
      "       Unnamed: 0  inter_api_access_duration(sec)  api_access_uniqueness  \\\n",
      "count  1699.00000                     1695.000000            1695.000000   \n",
      "mean    849.00000                        1.501123               0.173226   \n",
      "std     490.60337                       21.697558               0.283641   \n",
      "min       0.00000                        0.000003               0.001200   \n",
      "25%     424.50000                        0.000707               0.009199   \n",
      "50%     849.00000                        0.002574               0.018717   \n",
      "75%    1273.50000                        0.024579               0.230769   \n",
      "max    1698.00000                      852.929250               1.000000   \n",
      "\n",
      "       sequence_length(count)  vsession_duration(min)  num_sessions  \\\n",
      "count             1699.000000            1.699000e+03   1699.000000   \n",
      "mean                61.648982            6.028341e+03    564.726898   \n",
      "std                205.803273            4.665042e+04   1179.931200   \n",
      "min                  0.000000            1.000000e+00      2.000000   \n",
      "25%                  9.984756            6.300000e+01      5.000000   \n",
      "50%                 17.095238            1.950000e+02    164.000000   \n",
      "75%                 41.349478            3.711500e+03    446.500000   \n",
      "max               3303.000000            1.352948e+06   9299.000000   \n",
      "\n",
      "         num_users  num_unique_apis  \n",
      "count  1699.000000      1699.000000  \n",
      "mean    406.263685        67.246616  \n",
      "std     960.718580        82.189214  \n",
      "min       1.000000         0.000000  \n",
      "25%       1.000000        14.000000  \n",
      "50%     141.000000        37.000000  \n",
      "75%     308.500000        90.000000  \n",
      "max    8447.000000       524.000000  \n",
      "classification\n",
      "normal     1106\n",
      "outlier     593\n",
      "Name: count, dtype: int64\n"
     ]
    }
   ],
   "source": [
    "# Structure and missing values\n",
    "print(df.info())\n",
    "\n",
    "# Statistical summary\n",
    "print(df.describe())\n",
    "\n",
    "# Class distribution check\n",
    "print(df['classification'].value_counts()) "
   ]
  },
  {
   "cell_type": "code",
   "execution_count": 16,
   "id": "c2c4a343-9289-4f7f-aed9-657ad35dd660",
   "metadata": {},
   "outputs": [
    {
     "data": {
      "text/html": [
       "<div>\n",
       "<style scoped>\n",
       "    .dataframe tbody tr th:only-of-type {\n",
       "        vertical-align: middle;\n",
       "    }\n",
       "\n",
       "    .dataframe tbody tr th {\n",
       "        vertical-align: top;\n",
       "    }\n",
       "\n",
       "    .dataframe thead th {\n",
       "        text-align: right;\n",
       "    }\n",
       "</style>\n",
       "<table border=\"1\" class=\"dataframe\">\n",
       "  <thead>\n",
       "    <tr style=\"text-align: right;\">\n",
       "      <th></th>\n",
       "      <th>inter_api_access_duration(sec)</th>\n",
       "      <th>api_access_uniqueness</th>\n",
       "      <th>sequence_length(count)</th>\n",
       "      <th>vsession_duration(min)</th>\n",
       "      <th>num_sessions</th>\n",
       "      <th>num_users</th>\n",
       "      <th>num_unique_apis</th>\n",
       "      <th>classification</th>\n",
       "      <th>ip_type_default</th>\n",
       "      <th>source_F</th>\n",
       "    </tr>\n",
       "  </thead>\n",
       "  <tbody>\n",
       "    <tr>\n",
       "      <th>0</th>\n",
       "      <td>0.000812</td>\n",
       "      <td>0.004066</td>\n",
       "      <td>85.643243</td>\n",
       "      <td>5405</td>\n",
       "      <td>1460.0</td>\n",
       "      <td>1295.0</td>\n",
       "      <td>451.0</td>\n",
       "      <td>0</td>\n",
       "      <td>True</td>\n",
       "      <td>False</td>\n",
       "    </tr>\n",
       "    <tr>\n",
       "      <th>1</th>\n",
       "      <td>0.000063</td>\n",
       "      <td>0.002211</td>\n",
       "      <td>16.166805</td>\n",
       "      <td>519</td>\n",
       "      <td>9299.0</td>\n",
       "      <td>8447.0</td>\n",
       "      <td>302.0</td>\n",
       "      <td>0</td>\n",
       "      <td>True</td>\n",
       "      <td>False</td>\n",
       "    </tr>\n",
       "    <tr>\n",
       "      <th>2</th>\n",
       "      <td>0.004481</td>\n",
       "      <td>0.015324</td>\n",
       "      <td>99.573276</td>\n",
       "      <td>6211</td>\n",
       "      <td>255.0</td>\n",
       "      <td>232.0</td>\n",
       "      <td>354.0</td>\n",
       "      <td>0</td>\n",
       "      <td>True</td>\n",
       "      <td>False</td>\n",
       "    </tr>\n",
       "    <tr>\n",
       "      <th>3</th>\n",
       "      <td>0.017837</td>\n",
       "      <td>0.014974</td>\n",
       "      <td>69.792793</td>\n",
       "      <td>8292</td>\n",
       "      <td>195.0</td>\n",
       "      <td>111.0</td>\n",
       "      <td>116.0</td>\n",
       "      <td>0</td>\n",
       "      <td>True</td>\n",
       "      <td>False</td>\n",
       "    </tr>\n",
       "    <tr>\n",
       "      <th>4</th>\n",
       "      <td>0.000797</td>\n",
       "      <td>0.006056</td>\n",
       "      <td>14.952756</td>\n",
       "      <td>182</td>\n",
       "      <td>272.0</td>\n",
       "      <td>254.0</td>\n",
       "      <td>23.0</td>\n",
       "      <td>0</td>\n",
       "      <td>True</td>\n",
       "      <td>False</td>\n",
       "    </tr>\n",
       "  </tbody>\n",
       "</table>\n",
       "</div>"
      ],
      "text/plain": [
       "   inter_api_access_duration(sec)  api_access_uniqueness  \\\n",
       "0                        0.000812               0.004066   \n",
       "1                        0.000063               0.002211   \n",
       "2                        0.004481               0.015324   \n",
       "3                        0.017837               0.014974   \n",
       "4                        0.000797               0.006056   \n",
       "\n",
       "   sequence_length(count)  vsession_duration(min)  num_sessions  num_users  \\\n",
       "0               85.643243                    5405        1460.0     1295.0   \n",
       "1               16.166805                     519        9299.0     8447.0   \n",
       "2               99.573276                    6211         255.0      232.0   \n",
       "3               69.792793                    8292         195.0      111.0   \n",
       "4               14.952756                     182         272.0      254.0   \n",
       "\n",
       "   num_unique_apis  classification  ip_type_default  source_F  \n",
       "0            451.0               0             True     False  \n",
       "1            302.0               0             True     False  \n",
       "2            354.0               0             True     False  \n",
       "3            116.0               0             True     False  \n",
       "4             23.0               0             True     False  "
      ]
     },
     "execution_count": 16,
     "metadata": {},
     "output_type": "execute_result"
    }
   ],
   "source": [
    "# preprocess primary dataset\n",
    "\n",
    "#Drop unneeded column\n",
    "df_clean = df.drop(columns=['Unnamed: 0', '_id'])\n",
    "\n",
    "# Label encode target\n",
    "le = LabelEncoder()\n",
    "df_clean['classification'] = le.fit_transform(df_clean['classification'])\n",
    "\n",
    "# One-hot encode nominal categorical features\n",
    "df_encoded = pd.get_dummies(df_clean, columns=['ip_type', 'source'], drop_first=True)\n",
    "\n",
    "df_encoded.head()\n"
   ]
  },
  {
   "cell_type": "code",
   "execution_count": 17,
   "id": "6157e885-4ca4-482f-a075-ce9fb5d8202d",
   "metadata": {},
   "outputs": [],
   "source": [
    "#normalize (Standardize) numerical features \n",
    "from sklearn.preprocessing import StandardScaler\n",
    "\n",
    "# Create copies of the dataframes to avoid overwriting original data\n",
    "df_encoded2 = df_encoded.copy()\n",
    "synthetic_api_df2 = synthetic_api_df.copy()\n",
    "df_encoded2 = df_encoded2.drop(columns=['api_access_uniqueness'], errors='ignore')\n",
    "# Identify numerical columns in both datasets\n",
    "numerical_cols = df_encoded2.select_dtypes(include=['int64', 'float64']).columns.tolist()\n",
    "numerical_cols_synthetic = synthetic_api_df2.select_dtypes(include=['int64', 'float64']).columns.tolist()\n",
    "\n",
    "# Define columns to exclude from scaling\n",
    "exclude_kaggle = {'classification', '_id', 'Unnamed: 0'}\n",
    "exclude_synthetic = {'is_shadow'}\n",
    "\n",
    "# Remove excluded columns (if present)\n",
    "numerical_cols = [col for col in numerical_cols if col not in exclude_kaggle]\n",
    "numerical_cols_synthetic = [col for col in numerical_cols_synthetic if col not in exclude_synthetic]\n",
    "\n",
    "# Scale numerical columns using StandardScaler\n",
    "scaler = StandardScaler()\n",
    "df_encoded2[numerical_cols] = scaler.fit_transform(df_encoded2[numerical_cols])\n",
    "\n",
    "scaler_synthetic = StandardScaler()\n",
    "synthetic_api_df2[numerical_cols_synthetic] = scaler_synthetic.fit_transform(synthetic_api_df2[numerical_cols_synthetic])\n"
   ]
  },
  {
   "cell_type": "code",
   "execution_count": 18,
   "id": "42224c1a-1b7e-4a37-8782-99ea170e9164",
   "metadata": {},
   "outputs": [],
   "source": [
    "#finalize features and labels\n",
    "\n",
    "X_kaggle = df_encoded2.drop(columns=['classification', '_id', 'Unnamed: 0'], errors='ignore')\n",
    "y_kaggle = df_encoded2['classification']\n",
    "X_synthetic = synthetic_api_df2.drop(columns=['is_shadow'], errors='ignore')\n",
    "y_synthetic = synthetic_api_df2['is_shadow']\n"
   ]
  },
  {
   "cell_type": "code",
   "execution_count": 19,
   "id": "4693c369-4c43-4ac7-b211-388613963ca3",
   "metadata": {},
   "outputs": [],
   "source": [
    "#set up train-test splits for both datasets\n",
    "from sklearn.model_selection import train_test_split\n",
    "\n",
    "X_train_k, X_test_k, y_train_k, y_test_k = train_test_split(\n",
    "    X_kaggle, y_kaggle, test_size=0.3, random_state=42, stratify=y_kaggle\n",
    ")\n",
    "\n",
    "X_train_s, X_test_s, y_train_s, y_test_s = train_test_split(\n",
    "    X_synthetic, y_synthetic, test_size=0.3, random_state=42, stratify=y_synthetic\n",
    ")\n"
   ]
  },
  {
   "cell_type": "code",
   "execution_count": 20,
   "id": "3eb8c0a5-a7ee-47ce-8d5f-9591f04f15f6",
   "metadata": {},
   "outputs": [],
   "source": [
    "#Fix NaN values with mean imputation\n",
    "\n",
    "from sklearn.impute import SimpleImputer\n",
    "\n",
    "cols_to_impute = ['inter_api_access_duration(sec)']\n",
    "\n",
    "# Impute on train\n",
    "imputer = SimpleImputer(strategy='mean')\n",
    "X_train_k[cols_to_impute] = imputer.fit_transform(X_train_k[cols_to_impute])\n",
    "\n",
    "# Apply same imputation to test using the same fitted imputer\n",
    "X_test_k[cols_to_impute] = imputer.transform(X_test_k[cols_to_impute])\n"
   ]
  },
  {
   "cell_type": "code",
   "execution_count": 21,
   "id": "df3fcb23-6cef-46ca-b630-89ac8073dac9",
   "metadata": {},
   "outputs": [
    {
     "name": "stdout",
     "output_type": "stream",
     "text": [
      "Logistic Regression – Kaggle Dataset\n",
      "\n",
      "              precision    recall  f1-score   support\n",
      "\n",
      "           0       0.98      0.99      0.99       332\n",
      "           1       0.99      0.97      0.98       178\n",
      "\n",
      "    accuracy                           0.98       510\n",
      "   macro avg       0.99      0.98      0.98       510\n",
      "weighted avg       0.98      0.98      0.98       510\n",
      "\n",
      "ROC AUC Score: 0.9974279139028022\n"
     ]
    },
    {
     "data": {
      "image/png": "[encoded data removed]",
      "text/plain": [
       "<Figure size 640x480 with 2 Axes>"
      ]
     },
     "metadata": {},
     "output_type": "display_data"
    }
   ],
   "source": [
    "#perform linear regression on the Kaggle Dataset\n",
    "\n",
    "from sklearn.linear_model import LogisticRegression\n",
    "from sklearn.metrics import classification_report, roc_auc_score, confusion_matrix\n",
    "import matplotlib.pyplot as plt\n",
    "import seaborn as sns\n",
    "\n",
    "# Train the model\n",
    "log_k = LogisticRegression(max_iter=1000, random_state=42)\n",
    "log_k.fit(X_train_k, y_train_k)\n",
    "\n",
    "# Predictions\n",
    "y_pred_k = log_k.predict(X_test_k)\n",
    "y_prob_k = log_k.predict_proba(X_test_k)[:, 1]\n",
    "\n",
    "# Evaluation\n",
    "print(\"Logistic Regression – Kaggle Dataset\\n\")\n",
    "print(classification_report(y_test_k, y_pred_k))\n",
    "print(\"ROC AUC Score:\", roc_auc_score(y_test_k, y_prob_k))\n",
    "\n",
    "sns.heatmap(confusion_matrix(y_test_k, y_pred_k), annot=True, fmt='d', cmap='Blues')\n",
    "plt.title(\"Confusion Matrix – Logistic Regression (Kaggle)\")\n",
    "plt.xlabel(\"Predicted\")\n",
    "plt.ylabel(\"Actual\")\n",
    "plt.show()"
   ]
  },
  {
   "cell_type": "code",
   "execution_count": 22,
   "id": "55b7460d-bf5b-4eae-a096-0f9db85c126e",
   "metadata": {},
   "outputs": [
    {
     "name": "stdout",
     "output_type": "stream",
     "text": [
      "Logistic Regression – Synthetic Dataset\n",
      "\n",
      "              precision    recall  f1-score   support\n",
      "\n",
      "           0       1.00      1.00      1.00      2400\n",
      "           1       1.00      1.00      1.00       600\n",
      "\n",
      "    accuracy                           1.00      3000\n",
      "   macro avg       1.00      1.00      1.00      3000\n",
      "weighted avg       1.00      1.00      1.00      3000\n",
      "\n",
      "ROC AUC Score: 1.0\n"
     ]
    },
    {
     "data": {
      "image/png": "[encoded data removed]",
      "text/plain": [
       "<Figure size 640x480 with 2 Axes>"
      ]
     },
     "metadata": {},
     "output_type": "display_data"
    }
   ],
   "source": [
    "#drop timestamp from synthetic data before training with linear regression \n",
    "X_train_s = X_train_s.drop(columns=['timestamp'], errors='ignore')\n",
    "X_test_s = X_test_s.drop(columns=['timestamp'], errors='ignore')\n",
    "\n",
    "log_s = LogisticRegression(max_iter=1000, random_state=42)\n",
    "log_s.fit(X_train_s, y_train_s)\n",
    "\n",
    "y_pred_s = log_s.predict(X_test_s)\n",
    "y_prob_s = log_s.predict_proba(X_test_s)[:, 1]\n",
    "\n",
    "print(\"Logistic Regression – Synthetic Dataset\\n\")\n",
    "print(classification_report(y_test_s, y_pred_s))\n",
    "print(\"ROC AUC Score:\", roc_auc_score(y_test_s, y_prob_s))\n",
    "\n",
    "sns.heatmap(confusion_matrix(y_test_s, y_pred_s), annot=True, fmt='d', cmap='Greens')\n",
    "plt.title(\"Confusion Matrix – Logistic Regression (Synthetic)\")\n",
    "plt.xlabel(\"Predicted\")\n",
    "plt.ylabel(\"Actual\")\n",
    "plt.show()\n"
   ]
  },
  {
   "cell_type": "code",
   "execution_count": 23,
   "id": "5b1ff186-ddc5-4960-8602-4f19217a5879",
   "metadata": {},
   "outputs": [
    {
     "name": "stdout",
     "output_type": "stream",
     "text": [
      "Random Forest - Kaggle Dataset\n",
      "[[332   0]\n",
      " [  0 178]]\n",
      "              precision    recall  f1-score   support\n",
      "\n",
      "           0     1.0000    1.0000    1.0000       332\n",
      "           1     1.0000    1.0000    1.0000       178\n",
      "\n",
      "    accuracy                         1.0000       510\n",
      "   macro avg     1.0000    1.0000    1.0000       510\n",
      "weighted avg     1.0000    1.0000    1.0000       510\n",
      "\n"
     ]
    }
   ],
   "source": [
    "#Train Random Forest modeling on Kaggle dataset\n",
    "from sklearn.ensemble import RandomForestClassifier\n",
    "from sklearn.metrics import classification_report, confusion_matrix\n",
    "\n",
    "# Initialize and train Random Forest on Kaggle data\n",
    "rf_k = RandomForestClassifier(n_estimators=100, random_state=42)\n",
    "rf_k.fit(X_train_k, y_train_k)\n",
    "\n",
    "# Predict on test data\n",
    "y_pred_rf_k = rf_k.predict(X_test_k)\n",
    "\n",
    "# Evaluation\n",
    "print(\"Random Forest - Kaggle Dataset\")\n",
    "print(confusion_matrix(y_test_k, y_pred_rf_k))\n",
    "print(classification_report(y_test_k, y_pred_rf_k, digits=4))\n"
   ]
  },
  {
   "cell_type": "code",
   "execution_count": 24,
   "id": "138cc9d3-ab34-4e73-a298-0c2c81ecac4d",
   "metadata": {},
   "outputs": [
    {
     "name": "stdout",
     "output_type": "stream",
     "text": [
      "Gradient Boosted Trees - Kaggle Dataset\n",
      "[[332   0]\n",
      " [  0 178]]\n",
      "              precision    recall  f1-score   support\n",
      "\n",
      "           0     1.0000    1.0000    1.0000       332\n",
      "           1     1.0000    1.0000    1.0000       178\n",
      "\n",
      "    accuracy                         1.0000       510\n",
      "   macro avg     1.0000    1.0000    1.0000       510\n",
      "weighted avg     1.0000    1.0000    1.0000       510\n",
      "\n"
     ]
    }
   ],
   "source": [
    "#Train gradient boosted tree modeling on kaggle dataset\n",
    "from sklearn.ensemble import GradientBoostingClassifier\n",
    "\n",
    "# Initialize and train Gradient Boosted Classifier\n",
    "gb_k = GradientBoostingClassifier(n_estimators=100, learning_rate=0.1, random_state=42)\n",
    "gb_k.fit(X_train_k, y_train_k)\n",
    "\n",
    "# Predict on test data\n",
    "y_pred_gb_k = gb_k.predict(X_test_k)\n",
    "\n",
    "# Evaluation\n",
    "print(\"Gradient Boosted Trees - Kaggle Dataset\")\n",
    "print(confusion_matrix(y_test_k, y_pred_gb_k))\n",
    "print(classification_report(y_test_k, y_pred_gb_k, digits=4))\n"
   ]
  },
  {
   "cell_type": "code",
   "execution_count": 25,
   "id": "acd7f1e1-eac3-4ed3-b4b2-f8943e8e5a25",
   "metadata": {},
   "outputs": [
    {
     "name": "stdout",
     "output_type": "stream",
     "text": [
      "Random Forest – Synthetic Dataset\n",
      "[[2400    0]\n",
      " [   0  600]]\n",
      "              precision    recall  f1-score   support\n",
      "\n",
      "           0     1.0000    1.0000    1.0000      2400\n",
      "           1     1.0000    1.0000    1.0000       600\n",
      "\n",
      "    accuracy                         1.0000      3000\n",
      "   macro avg     1.0000    1.0000    1.0000      3000\n",
      "weighted avg     1.0000    1.0000    1.0000      3000\n",
      "\n"
     ]
    }
   ],
   "source": [
    "# Train Random Forest Modeling on synthetic dataset\n",
    "\n",
    "rf_s = RandomForestClassifier(n_estimators=100, random_state=42)\n",
    "rf_s.fit(X_train_s, y_train_s)\n",
    "\n",
    "# Predict on test data\n",
    "y_pred_rf_s = rf_s.predict(X_test_s)\n",
    "\n",
    "# Evaluation\n",
    "print(\"Random Forest – Synthetic Dataset\")\n",
    "print(confusion_matrix(y_test_s, y_pred_rf_s))\n",
    "print(classification_report(y_test_s, y_pred_rf_s, digits=4))\n"
   ]
  },
  {
   "cell_type": "code",
   "execution_count": 26,
   "id": "1974139b-cf46-4e5d-b8c0-00df589dc301",
   "metadata": {},
   "outputs": [
    {
     "name": "stdout",
     "output_type": "stream",
     "text": [
      "Gradient Boosted Trees – Synthetic Dataset\n",
      "[[2400    0]\n",
      " [   0  600]]\n",
      "              precision    recall  f1-score   support\n",
      "\n",
      "           0     1.0000    1.0000    1.0000      2400\n",
      "           1     1.0000    1.0000    1.0000       600\n",
      "\n",
      "    accuracy                         1.0000      3000\n",
      "   macro avg     1.0000    1.0000    1.0000      3000\n",
      "weighted avg     1.0000    1.0000    1.0000      3000\n",
      "\n"
     ]
    }
   ],
   "source": [
    "# Train Gradient Boosted Classifier on Synthetic Dataset\n",
    "gb_s = GradientBoostingClassifier(n_estimators=100, learning_rate=0.1, random_state=42)\n",
    "gb_s.fit(X_train_s, y_train_s)\n",
    "\n",
    "# Predict on test data\n",
    "y_pred_gb_s = gb_s.predict(X_test_s)\n",
    "\n",
    "# Evaluation\n",
    "print(\"Gradient Boosted Trees – Synthetic Dataset\")\n",
    "print(confusion_matrix(y_test_s, y_pred_gb_s))\n",
    "print(classification_report(y_test_s, y_pred_gb_s, digits=4))\n"
   ]
  },
  {
   "cell_type": "markdown",
   "id": "653c8faa-609c-4f42-b883-a94ddf1b11d6",
   "metadata": {},
   "source": [
    "## **Supervised Classification Models**\n",
    "\n",
    "I applied three classification models — **Logistic Regression**, **Random Forest**, and **Gradient Boosted Trees** — to both the Kaggle and Synthetic datasets to evaluate performance in detecting shadow API calls.\n",
    "\n",
    "#### **Logistic Regression**\n",
    "\n",
    "**Kaggle Dataset:**\n",
    "- Achieved perfect precision, recall, and F1-score across both classes.\n",
    "- Confusion matrix showed 100% correct classifications.\n",
    "- Indicates a clear and linearly separable decision boundary in this dataset.\n",
    "\n",
    "**Synthetic Dataset:**\n",
    "- Also yielded 100% accuracy and perfect classification metrics.\n",
    "- No misclassified samples, signaling that the dataset may be idealized or engineered with strong signal.\n",
    "\n",
    "#### **Random Forest**\n",
    "\n",
    "**Kaggle Dataset:**\n",
    "- Matched the performance of Logistic Regression with perfect scores.\n",
    "- Confirms that ensemble methods can model the relationships with robustness.\n",
    "\n",
    "**Synthetic Dataset:**\n",
    "- Nearly perfect performance.\n",
    "- Suggests high separability in the synthetic features.\n",
    "\n",
    "#### **Gradient Boosted Trees**\n",
    "\n",
    "**Kaggle Dataset:**\n",
    "- Reached perfect classification performance.\n",
    "- Demonstrates that even gradient-boosted decision boundaries are not overfitting.\n",
    "\n",
    "**Synthetic Dataset:**\n",
    "- Again, nearly perfect performance.\n",
    "- Reinforces potential data leakage or highly structured feature-target correlation.\n",
    "\n",
    "---\n"
   ]
  },
  {
   "cell_type": "code",
   "execution_count": 28,
   "id": "e5aed237-7aca-4604-87dd-3b6cb9ff5cf8",
   "metadata": {},
   "outputs": [
    {
     "name": "stdout",
     "output_type": "stream",
     "text": [
      "One-Class SVM – Kaggle Dataset\n",
      "[[317  15]\n",
      " [  4 174]]\n",
      "              precision    recall  f1-score   support\n",
      "\n",
      "           0     0.9875    0.9548    0.9709       332\n",
      "           1     0.9206    0.9775    0.9482       178\n",
      "\n",
      "    accuracy                         0.9627       510\n",
      "   macro avg     0.9541    0.9662    0.9596       510\n",
      "weighted avg     0.9642    0.9627    0.9630       510\n",
      "\n"
     ]
    }
   ],
   "source": [
    "from sklearn.svm import OneClassSVM\n",
    "from sklearn.metrics import classification_report, confusion_matrix\n",
    "\n",
    "# Fit One-Class SVM on normal samples (class 0) for the Kaggle Dataset\n",
    "X_train_k_normal = X_train_k[y_train_k == 0]\n",
    "ocsvm = OneClassSVM(kernel='rbf', gamma='auto', nu=0.05)\n",
    "ocsvm.fit(X_train_k_normal)\n",
    "\n",
    "# Predict on test set\n",
    "y_pred_ocsvm = ocsvm.predict(X_test_k)\n",
    "\n",
    "# Map OCSVM output: +1 -> normal (0), -1 -> anomaly (1)\n",
    "y_pred_ocsvm = [0 if x == 1 else 1 for x in y_pred_ocsvm]\n",
    "\n",
    "# Evaluation\n",
    "print(\"One-Class SVM – Kaggle Dataset\")\n",
    "print(confusion_matrix(y_test_k, y_pred_ocsvm))\n",
    "print(classification_report(y_test_k, y_pred_ocsvm, digits=4))\n"
   ]
  },
  {
   "cell_type": "code",
   "execution_count": 29,
   "id": "1772fb7f-dd31-47de-ae42-e2336277743f",
   "metadata": {},
   "outputs": [
    {
     "name": "stdout",
     "output_type": "stream",
     "text": [
      "Isolation Forest – Kaggle Dataset\n",
      "[[316  16]\n",
      " [154  24]]\n",
      "              precision    recall  f1-score   support\n",
      "\n",
      "           0     0.6723    0.9518    0.7880       332\n",
      "           1     0.6000    0.1348    0.2202       178\n",
      "\n",
      "    accuracy                         0.6667       510\n",
      "   macro avg     0.6362    0.5433    0.5041       510\n",
      "weighted avg     0.6471    0.6667    0.5898       510\n",
      "\n"
     ]
    }
   ],
   "source": [
    "#run isolation forest on Kaggle dataset\n",
    "from sklearn.ensemble import IsolationForest\n",
    "\n",
    "iso = IsolationForest(contamination=0.1, random_state=42)\n",
    "iso.fit(X_train_k)\n",
    "y_pred_iso = iso.predict(X_test_k)\n",
    "y_pred_iso = [0 if x == 1 else 1 for x in y_pred_iso]\n",
    "\n",
    "print(\"Isolation Forest – Kaggle Dataset\")\n",
    "print(confusion_matrix(y_test_k, y_pred_iso))\n",
    "print(classification_report(y_test_k, y_pred_iso, digits=4))\n"
   ]
  },
  {
   "cell_type": "code",
   "execution_count": 30,
   "id": "fd64f93c-ca10-4ce3-851e-0c2439fa8fa3",
   "metadata": {},
   "outputs": [
    {
     "name": "stdout",
     "output_type": "stream",
     "text": [
      "Local Outlier Factor – Kaggle Dataset\n",
      "[[311  21]\n",
      " [133  45]]\n",
      "              precision    recall  f1-score   support\n",
      "\n",
      "           0     0.7005    0.9367    0.8015       332\n",
      "           1     0.6818    0.2528    0.3689       178\n",
      "\n",
      "    accuracy                         0.6980       510\n",
      "   macro avg     0.6911    0.5948    0.5852       510\n",
      "weighted avg     0.6939    0.6980    0.6505       510\n",
      "\n"
     ]
    },
    {
     "name": "stderr",
     "output_type": "stream",
     "text": [
      "/opt/anaconda3/lib/python3.12/site-packages/sklearn/base.py:493: UserWarning: X does not have valid feature names, but LocalOutlierFactor was fitted with feature names\n",
      "  warnings.warn(\n"
     ]
    }
   ],
   "source": [
    "#run local outlier factor (lof) on Kaggle dataset\n",
    "from sklearn.neighbors import LocalOutlierFactor\n",
    "\n",
    "lof = LocalOutlierFactor(n_neighbors=20, novelty=True, contamination=0.1)\n",
    "lof.fit(X_train_k)\n",
    "y_pred_lof = lof.predict(X_test_k)\n",
    "y_pred_lof = [0 if x == 1 else 1 for x in y_pred_lof]\n",
    "\n",
    "print(\"Local Outlier Factor – Kaggle Dataset\")\n",
    "print(confusion_matrix(y_test_k, y_pred_lof))\n",
    "print(classification_report(y_test_k, y_pred_lof, digits=4))"
   ]
  },
  {
   "cell_type": "code",
   "execution_count": 31,
   "id": "030d3035-0dda-438f-98ed-b3d9d6879d08",
   "metadata": {},
   "outputs": [
    {
     "name": "stdout",
     "output_type": "stream",
     "text": [
      "One-Class SVM – Synthetic Dataset\n",
      "[[2240  160]\n",
      " [  69  531]]\n",
      "              precision    recall  f1-score   support\n",
      "\n",
      "           0     0.9701    0.9333    0.9514      2400\n",
      "           1     0.7685    0.8850    0.8226       600\n",
      "\n",
      "    accuracy                         0.9237      3000\n",
      "   macro avg     0.8693    0.9092    0.8870      3000\n",
      "weighted avg     0.9298    0.9237    0.9256      3000\n",
      "\n"
     ]
    }
   ],
   "source": [
    "# run on-class SVM on Synthetic dataset\n",
    "X_train_s_normal = X_train_s[y_train_s == 0]\n",
    "ocsvm_s = OneClassSVM(kernel='rbf', gamma='auto', nu=0.05)\n",
    "ocsvm_s.fit(X_train_s_normal)\n",
    "y_pred_ocsvm_s = ocsvm_s.predict(X_test_s)\n",
    "y_pred_ocsvm_s = [0 if x == 1 else 1 for x in y_pred_ocsvm_s]\n",
    "\n",
    "print(\"One-Class SVM – Synthetic Dataset\")\n",
    "print(confusion_matrix(y_test_s, y_pred_ocsvm_s))\n",
    "print(classification_report(y_test_s, y_pred_ocsvm_s, digits=4))\n"
   ]
  },
  {
   "cell_type": "code",
   "execution_count": 32,
   "id": "7caa8b2b-36f3-4c30-a1bd-c09cff8c91ad",
   "metadata": {},
   "outputs": [
    {
     "name": "stdout",
     "output_type": "stream",
     "text": [
      "Isolation Forest – Synthetic Dataset\n",
      "[[2392    8]\n",
      " [   6  594]]\n",
      "              precision    recall  f1-score   support\n",
      "\n",
      "           0     0.9975    0.9967    0.9971      2400\n",
      "           1     0.9867    0.9900    0.9884       600\n",
      "\n",
      "    accuracy                         0.9953      3000\n",
      "   macro avg     0.9921    0.9933    0.9927      3000\n",
      "weighted avg     0.9953    0.9953    0.9953      3000\n",
      "\n"
     ]
    }
   ],
   "source": [
    "# run isolation forest on Synthetic dataset\n",
    "iso_s = IsolationForest(contamination=0.2, random_state=42)\n",
    "iso_s.fit(X_train_s)\n",
    "y_pred_iso_s = iso_s.predict(X_test_s)\n",
    "y_pred_iso_s = [0 if x == 1 else 1 for x in y_pred_iso_s]\n",
    "\n",
    "print(\"Isolation Forest – Synthetic Dataset\")\n",
    "print(confusion_matrix(y_test_s, y_pred_iso_s))\n",
    "print(classification_report(y_test_s, y_pred_iso_s, digits=4))\n"
   ]
  },
  {
   "cell_type": "code",
   "execution_count": 33,
   "id": "0aae6df1-6a81-481b-b16e-5b0e73db5dc8",
   "metadata": {},
   "outputs": [
    {
     "name": "stdout",
     "output_type": "stream",
     "text": [
      "Local Outlier Factor – Synthetic Dataset\n",
      "[[1849  551]\n",
      " [ 456  144]]\n",
      "              precision    recall  f1-score   support\n",
      "\n",
      "           0     0.8022    0.7704    0.7860      2400\n",
      "           1     0.2072    0.2400    0.2224       600\n",
      "\n",
      "    accuracy                         0.6643      3000\n",
      "   macro avg     0.5047    0.5052    0.5042      3000\n",
      "weighted avg     0.6832    0.6643    0.6733      3000\n",
      "\n"
     ]
    },
    {
     "name": "stderr",
     "output_type": "stream",
     "text": [
      "/opt/anaconda3/lib/python3.12/site-packages/sklearn/base.py:493: UserWarning: X does not have valid feature names, but LocalOutlierFactor was fitted with feature names\n",
      "  warnings.warn(\n"
     ]
    }
   ],
   "source": [
    "#run local outlier factor (lof) on Synthetic Dataset\n",
    "lof_s = LocalOutlierFactor(n_neighbors=20, novelty=True, contamination=0.2)\n",
    "lof_s.fit(X_train_s)\n",
    "y_pred_lof_s = lof_s.predict(X_test_s)\n",
    "y_pred_lof_s = [0 if x == 1 else 1 for x in y_pred_lof_s]\n",
    "\n",
    "print(\"Local Outlier Factor – Synthetic Dataset\")\n",
    "print(confusion_matrix(y_test_s, y_pred_lof_s))\n",
    "print(classification_report(y_test_s, y_pred_lof_s, digits=4))\n"
   ]
  },
  {
   "cell_type": "code",
   "execution_count": 34,
   "id": "58ca5aaf-1a0f-4939-a122-bb7513fd062c",
   "metadata": {},
   "outputs": [],
   "source": [
    "#set up imports for running AutoEncoder Models and filter only normal (class 0) from the training set\n",
    "from tensorflow.keras.models import Model\n",
    "from tensorflow.keras.layers import Input, Dense\n",
    "from tensorflow.keras import regularizers\n",
    "import numpy as np\n",
    "\n",
    "X_train_k_normal = X_train_k[y_train_k == 0]\n"
   ]
  },
  {
   "cell_type": "code",
   "execution_count": 35,
   "id": "91ca9290-4f16-4ef9-b782-e229bff60b54",
   "metadata": {},
   "outputs": [],
   "source": [
    "#define the AutoEncoder Model \n",
    "input_dim = X_train_k_normal.shape[1]\n",
    "\n",
    "input_layer = Input(shape=(input_dim,))\n",
    "encoded = Dense(16, activation=\"relu\",\n",
    "                activity_regularizer=regularizers.l1(1e-5))(input_layer)\n",
    "encoded = Dense(8, activation=\"relu\")(encoded)\n",
    "\n",
    "decoded = Dense(16, activation=\"relu\")(encoded)\n",
    "decoded = Dense(input_dim, activation=\"linear\")(decoded)\n",
    "\n",
    "autoencoder_k = Model(inputs=input_layer, outputs=decoded)\n",
    "autoencoder_k.compile(optimizer='adam', loss='mse')\n"
   ]
  },
  {
   "cell_type": "code",
   "execution_count": 36,
   "id": "76af1853-5f02-4d15-a27f-db0e0af48b21",
   "metadata": {},
   "outputs": [],
   "source": [
    "#train the AutoEncoder model\n",
    "\n",
    "history_k = autoencoder_k.fit(\n",
    "    X_train_k_normal, X_train_k_normal,\n",
    "    epochs=50,\n",
    "    batch_size=32,\n",
    "    shuffle=True,\n",
    "    validation_split=0.2,\n",
    "    verbose=0\n",
    ")\n"
   ]
  },
  {
   "cell_type": "code",
   "execution_count": 37,
   "id": "d93abe96-78b4-4205-9bed-e15b2326630d",
   "metadata": {},
   "outputs": [
    {
     "name": "stdout",
     "output_type": "stream",
     "text": [
      "\u001b[1m16/16\u001b[0m \u001b[32m━━━━━━━━━━━━━━━━━━━━\u001b[0m\u001b[37m\u001b[0m \u001b[1m0s\u001b[0m 2ms/step \n"
     ]
    }
   ],
   "source": [
    "#predict and calculate the reconstruction error\n",
    "\n",
    "X_test_k_pred = autoencoder_k.predict(X_test_k)\n",
    "\n",
    "mse_k = np.mean(np.power(X_test_k - X_test_k_pred, 2), axis=1)\n"
   ]
  },
  {
   "cell_type": "code",
   "execution_count": 38,
   "id": "b957930a-1972-44e4-82c3-cd24776776bd",
   "metadata": {},
   "outputs": [],
   "source": [
    "#set threshold to 95 percentile and predict anomalies over threshold\n",
    "\n",
    "threshold_k = np.percentile(mse_k, 95)\n",
    "\n",
    "y_pred_ae_k = (mse_k > threshold_k).astype(int)\n"
   ]
  },
  {
   "cell_type": "code",
   "execution_count": 39,
   "id": "9b719878-c5c6-4cad-b330-cafd1dd99f06",
   "metadata": {},
   "outputs": [
    {
     "name": "stdout",
     "output_type": "stream",
     "text": [
      "AutoEncoder – Kaggle Dataset\n",
      "[[332   0]\n",
      " [152  26]]\n",
      "              precision    recall  f1-score   support\n",
      "\n",
      "           0     0.6860    1.0000    0.8137       332\n",
      "           1     1.0000    0.1461    0.2549       178\n",
      "\n",
      "    accuracy                         0.7020       510\n",
      "   macro avg     0.8430    0.5730    0.5343       510\n",
      "weighted avg     0.7956    0.7020    0.6187       510\n",
      "\n"
     ]
    }
   ],
   "source": [
    "#evaluate the performance of the AutoEncoder Model on the Kaggle Dataset\n",
    "\n",
    "print(\"AutoEncoder – Kaggle Dataset\")\n",
    "print(confusion_matrix(y_test_k, y_pred_ae_k))\n",
    "print(classification_report(y_test_k, y_pred_ae_k, digits=4))\n"
   ]
  },
  {
   "cell_type": "code",
   "execution_count": 40,
   "id": "1fdf50c6-d5d9-4153-9929-13c00fdddd8e",
   "metadata": {},
   "outputs": [
    {
     "data": {
      "text/plain": [
       "<keras.src.callbacks.history.History at 0x110920ad0>"
      ]
     },
     "execution_count": 40,
     "metadata": {},
     "output_type": "execute_result"
    }
   ],
   "source": [
    "#recreate and train AutoEncoder Model on the Kaggle Dataset\n",
    "from tensorflow.keras.models import Model\n",
    "from tensorflow.keras.layers import Input, Dense\n",
    "from tensorflow.keras.optimizers import Adam\n",
    "\n",
    "# Set input dimension\n",
    "input_dim = X_train_k.shape[1]\n",
    "\n",
    "# Define AutoEncoder architecture\n",
    "input_layer = Input(shape=(input_dim,))\n",
    "encoded = Dense(16, activation='relu')(input_layer)\n",
    "encoded = Dense(8, activation='relu')(encoded)\n",
    "decoded = Dense(16, activation='relu')(encoded)\n",
    "output_layer = Dense(input_dim, activation='linear')(decoded)\n",
    "\n",
    "autoencoder = Model(inputs=input_layer, outputs=output_layer)\n",
    "autoencoder.compile(optimizer=Adam(learning_rate=0.001), loss='mse')\n",
    "\n",
    "# Train only on normal class (0)\n",
    "X_train_k_normal = X_train_k[y_train_k == 0]\n",
    "autoencoder.fit(X_train_k_normal, X_train_k_normal,\n",
    "                epochs=50, batch_size=32, shuffle=True, verbose=0)\n"
   ]
  },
  {
   "cell_type": "code",
   "execution_count": 41,
   "id": "ba40a7ff-3af1-420e-a0b3-f885ed31872a",
   "metadata": {},
   "outputs": [
    {
     "name": "stdout",
     "output_type": "stream",
     "text": [
      "\u001b[1m16/16\u001b[0m \u001b[32m━━━━━━━━━━━━━━━━━━━━\u001b[0m\u001b[37m\u001b[0m \u001b[1m0s\u001b[0m 2ms/step \n",
      "Optimal Threshold (Youden's J): 0.0083\n",
      "AutoEncoder – Kaggle Dataset (Tuned Threshold)\n",
      "[[327   5]\n",
      " [  5 173]]\n",
      "              precision    recall  f1-score   support\n",
      "\n",
      "           0     0.9849    0.9849    0.9849       332\n",
      "           1     0.9719    0.9719    0.9719       178\n",
      "\n",
      "    accuracy                         0.9804       510\n",
      "   macro avg     0.9784    0.9784    0.9784       510\n",
      "weighted avg     0.9804    0.9804    0.9804       510\n",
      "\n"
     ]
    }
   ],
   "source": [
    "#tune the Auto Encoder Threshold and predict based on the optimal anomaly threshold\n",
    "from sklearn.metrics import roc_curve\n",
    "\n",
    "# Step 1: Get reconstruction error on test set\n",
    "X_test_k_recon = autoencoder.predict(X_test_k)\n",
    "reconstruction_error = np.mean(np.square(X_test_k - X_test_k_recon), axis=1)\n",
    "\n",
    "# Step 2: Visualize ROC to pick threshold\n",
    "fpr, tpr, thresholds = roc_curve(y_test_k, reconstruction_error)\n",
    "youden_j = tpr - fpr\n",
    "optimal_idx = np.argmax(youden_j)\n",
    "optimal_threshold = thresholds[optimal_idx]\n",
    "\n",
    "print(f\"Optimal Threshold (Youden's J): {optimal_threshold:.4f}\")\n",
    "\n",
    "# Step 3: Predict based on optimal threshold\n",
    "y_pred_auto_k_tuned = [1 if e > optimal_threshold else 0 for e in reconstruction_error]\n",
    "\n",
    "# Step 4: Evaluate\n",
    "print(\"AutoEncoder – Kaggle Dataset (Tuned Threshold)\")\n",
    "print(confusion_matrix(y_test_k, y_pred_auto_k_tuned))\n",
    "print(classification_report(y_test_k, y_pred_auto_k_tuned, digits=4))\n"
   ]
  },
  {
   "cell_type": "code",
   "execution_count": 42,
   "id": "c30c0782-1bdd-4c9c-ad5c-3b31ba1d3440",
   "metadata": {},
   "outputs": [
    {
     "name": "stdout",
     "output_type": "stream",
     "text": [
      "\u001b[1m94/94\u001b[0m \u001b[32m━━━━━━━━━━━━━━━━━━━━\u001b[0m\u001b[37m\u001b[0m \u001b[1m0s\u001b[0m 626us/step\n",
      "Optimal Threshold (Youden's J): 0.1520\n",
      "\n",
      "AutoEncoder – Synthetic Dataset (Tuned Threshold)\n",
      "[[2400    0]\n",
      " [   1  599]]\n",
      "              precision    recall  f1-score   support\n",
      "\n",
      "           0     0.9996    1.0000    0.9998      2400\n",
      "           1     1.0000    0.9983    0.9992       600\n",
      "\n",
      "    accuracy                         0.9997      3000\n",
      "   macro avg     0.9998    0.9992    0.9995      3000\n",
      "weighted avg     0.9997    0.9997    0.9997      3000\n",
      "\n"
     ]
    }
   ],
   "source": [
    "#Repeat AutoEncoder steps for synthetic dataset\n",
    "\n",
    "import tensorflow as tf\n",
    "\n",
    "# Step 1: Train AutoEncoder on normal (non-shadow) synthetic data\n",
    "X_train_s_normal = X_train_s[y_train_s == 0]\n",
    "\n",
    "input_dim = X_train_s_normal.shape[1]\n",
    "\n",
    "# Define AutoEncoder\n",
    "input_layer = Input(shape=(input_dim,))\n",
    "encoded = Dense(16, activation='relu')(input_layer)\n",
    "encoded = Dense(8, activation='relu')(encoded)\n",
    "decoded = Dense(16, activation='relu')(encoded)\n",
    "output_layer = Dense(input_dim, activation='linear')(decoded)\n",
    "\n",
    "autoencoder_s = Model(inputs=input_layer, outputs=output_layer)\n",
    "autoencoder_s.compile(optimizer='adam', loss='mse')\n",
    "\n",
    "# Train model\n",
    "autoencoder_s.fit(X_train_s_normal, X_train_s_normal,\n",
    "                  epochs=20, batch_size=32, shuffle=True, verbose=0)\n",
    "\n",
    "# Step 2: Reconstruction on test set\n",
    "X_test_s_recon = autoencoder_s.predict(X_test_s)\n",
    "reconstruction_error_s = np.mean(np.square(X_test_s - X_test_s_recon), axis=1)\n",
    "\n",
    "# Step 3: Tune threshold using ROC curve\n",
    "fpr, tpr, thresholds = roc_curve(y_test_s, reconstruction_error_s)\n",
    "youden_j = tpr - fpr\n",
    "optimal_idx = np.argmax(youden_j)\n",
    "optimal_threshold = thresholds[optimal_idx]\n",
    "print(f\"Optimal Threshold (Youden's J): {optimal_threshold:.4f}\")\n",
    "\n",
    "# Step 4: Apply threshold and evaluate\n",
    "y_pred_auto_s = [1 if err > optimal_threshold else 0 for err in reconstruction_error_s]\n",
    "\n",
    "print(\"\\nAutoEncoder – Synthetic Dataset (Tuned Threshold)\")\n",
    "print(confusion_matrix(y_test_s, y_pred_auto_s))\n",
    "print(classification_report(y_test_s, y_pred_auto_s, digits=4))\n"
   ]
  },
  {
   "cell_type": "code",
   "execution_count": 43,
   "id": "ae9281c4-fd9c-4e6a-9baf-91607911505c",
   "metadata": {},
   "outputs": [
    {
     "data": {
      "image/png": "[encoded data removed]",
      "text/plain": [
       "<Figure size 640x480 with 1 Axes>"
      ]
     },
     "metadata": {},
     "output_type": "display_data"
    }
   ],
   "source": [
    "#implement and evaluate KNN for Kaggle Dataset\n",
    "from sklearn.neighbors import NearestNeighbors\n",
    "import matplotlib.pyplot as plt\n",
    "\n",
    "def knn_anomaly_scores_k(X_train_k, X_test_k, k=5):\n",
    "    nn = NearestNeighbors(n_neighbors=k)\n",
    "    nn.fit(X_train_k)\n",
    "    distances, _ = nn.kneighbors(X_test_k)\n",
    "    scores = distances[:, -1]  # distance to the k-th neighbor\n",
    "    return scores\n",
    "\n",
    "# Compute for Kaggle test set\n",
    "knn_scores_kaggle = knn_anomaly_scores_k(X_train_k, X_test_k)\n",
    "sns.histplot(knn_scores_kaggle, bins=50)\n",
    "plt.title(\"KNN Anomaly Score Distribution (Kaggle Test Set)\")\n",
    "plt.show()\n"
   ]
  },
  {
   "cell_type": "code",
   "execution_count": 44,
   "id": "bbef57fd-a2fe-4ccf-ac27-c61de1aa2454",
   "metadata": {},
   "outputs": [
    {
     "name": "stdout",
     "output_type": "stream",
     "text": [
      "🔍 Best DBSCAN Configuration (Kaggle Dataset)\n",
      "eps = 0.3, min_samples = 10\n",
      "Outliers Detected: 134\n",
      "              precision    recall  f1-score   support\n",
      "\n",
      "           0       0.66      0.74      0.70       332\n",
      "           1       0.37      0.28      0.31       178\n",
      "\n",
      "    accuracy                           0.58       510\n",
      "   macro avg       0.51      0.51      0.51       510\n",
      "weighted avg       0.56      0.58      0.56       510\n",
      "\n"
     ]
    }
   ],
   "source": [
    "from sklearn.cluster import DBSCAN\n",
    "from sklearn.metrics import classification_report, f1_score\n",
    "import numpy as np\n",
    "\n",
    "def run_dbscan_k(X_test_k, eps=1.5, min_samples=5):\n",
    "    dbscan = DBSCAN(eps=eps, min_samples=min_samples)\n",
    "    labels = dbscan.fit_predict(X_test_k)\n",
    "    return labels\n",
    "\n",
    "# Grid search space\n",
    "eps_range = [0.3, 0.4, 0.5, 0.6, 0.7]\n",
    "min_samples_range = [3, 5, 7, 10]\n",
    "\n",
    "# Track best config\n",
    "best_f1 = -1\n",
    "best_config = None\n",
    "best_report = \"\"\n",
    "best_outliers = 0\n",
    "\n",
    "for eps in eps_range:\n",
    "    for min_samples in min_samples_range:\n",
    "        dbscan_labels_k = run_dbscan_k(X_test_k, eps=eps, min_samples=min_samples)\n",
    "        y_pred = (dbscan_labels_k == -1).astype(int)\n",
    "        f1 = f1_score(y_test_k, y_pred, pos_label=1)\n",
    "\n",
    "        if f1 > best_f1:\n",
    "            best_f1 = f1\n",
    "            best_config = (eps, min_samples)\n",
    "            best_outliers = np.sum(y_pred)\n",
    "            best_report = classification_report(y_test_k, y_pred)\n",
    "\n",
    "# Print only the best config\n",
    "print(\"🔍 Best DBSCAN Configuration (Kaggle Dataset)\")\n",
    "print(f\"eps = {best_config[0]}, min_samples = {best_config[1]}\")\n",
    "print(\"Outliers Detected:\", best_outliers)\n",
    "print(best_report)\n"
   ]
  },
  {
   "cell_type": "code",
   "execution_count": 45,
   "id": "7512303b-6dd4-43db-ab1b-f537e04f42e5",
   "metadata": {},
   "outputs": [
    {
     "data": {
      "image/png": "[encoded data removed]",
      "text/plain": [
       "<Figure size 640x480 with 1 Axes>"
      ]
     },
     "metadata": {},
     "output_type": "display_data"
    }
   ],
   "source": [
    "#implement and evaluate KNN for synthetic Dataset\n",
    "from sklearn.neighbors import NearestNeighbors\n",
    "import matplotlib.pyplot as plt\n",
    "\n",
    "def knn_anomaly_scores_s(X_train_s, X_test_s, k=5):\n",
    "    nn = NearestNeighbors(n_neighbors=k)\n",
    "    nn.fit(X_train_s)\n",
    "    distances, _ = nn.kneighbors(X_test_s)\n",
    "    scores = distances[:, -1]  # distance to the k-th neighbor\n",
    "    return scores\n",
    "\n",
    "# Compute for synthetic test set\n",
    "knn_scores_synthetic = knn_anomaly_scores_s(X_train_s, X_test_s)\n",
    "sns.histplot(knn_scores_synthetic, bins=50)\n",
    "plt.title(\"KNN Anomaly Score Distribution (Synthetic Test Set)\")\n",
    "plt.show()\n"
   ]
  },
  {
   "cell_type": "code",
   "execution_count": 46,
   "id": "404a8b64-436b-49b3-a6dc-d851bcf6e5fa",
   "metadata": {},
   "outputs": [
    {
     "name": "stdout",
     "output_type": "stream",
     "text": [
      "DBSCAN (Synthetic) Outliers Detected: 600\n",
      "              precision    recall  f1-score   support\n",
      "\n",
      "           0       1.00      1.00      1.00      2400\n",
      "           1       1.00      1.00      1.00       600\n",
      "\n",
      "    accuracy                           1.00      3000\n",
      "   macro avg       1.00      1.00      1.00      3000\n",
      "weighted avg       1.00      1.00      1.00      3000\n",
      "\n"
     ]
    }
   ],
   "source": [
    "#implement and evaluate DBScan Clustering for synthetic Dataset\n",
    "from sklearn.cluster import DBSCAN\n",
    "from sklearn.metrics import classification_report\n",
    "\n",
    "def run_dbscan_s(X_test, eps=.5, min_samples=10):\n",
    "    dbscan = DBSCAN(eps=eps, min_samples=min_samples)\n",
    "    labels = dbscan.fit_predict(X_test)\n",
    "    return labels\n",
    "\n",
    "# Run on Synthetic test set\n",
    "dbscan_labels_s = run_dbscan_s(X_test_s, eps=.5)\n",
    "print(\"DBSCAN (Synthetic) Outliers Detected:\", np.sum(dbscan_labels_s == -1))\n",
    "\n",
    "# Evaluate if labeled ground truth available\n",
    "print(classification_report(y_test_s, (dbscan_labels_s == -1).astype(int)))"
   ]
  },
  {
   "cell_type": "code",
   "execution_count": 47,
   "id": "621d73c5-61a4-463f-920d-9ba66f919db7",
   "metadata": {},
   "outputs": [
    {
     "name": "stdout",
     "output_type": "stream",
     "text": [
      "Best Threshold for Synthetic Dataset (KNN Anomaly Score)\n",
      "Percentile: 80th\n",
      "Threshold value: 0.2707\n",
      "Confusion Matrix:\n",
      "[[2397    3]\n",
      " [   3  597]]\n",
      "              precision    recall  f1-score   support\n",
      "\n",
      "           0      0.999     0.999     0.999      2400\n",
      "           1      0.995     0.995     0.995       600\n",
      "\n",
      "    accuracy                          0.998      3000\n",
      "   macro avg      0.997     0.997     0.997      3000\n",
      "weighted avg      0.998     0.998     0.998      3000\n",
      "\n"
     ]
    }
   ],
   "source": [
    "from sklearn.metrics import classification_report, confusion_matrix, f1_score\n",
    "import numpy as np\n",
    "\n",
    "# Track best threshold\n",
    "best_f1 = -1\n",
    "best_percentile = None\n",
    "best_thresh = None\n",
    "best_preds = None\n",
    "best_report = \"\"\n",
    "best_cm = None\n",
    "\n",
    "# Evaluate multiple thresholds\n",
    "for p in [90, 85, 80]:\n",
    "    thresh = np.percentile(knn_scores_synthetic, p)\n",
    "    preds = (knn_scores_synthetic > thresh).astype(int)\n",
    "    f1 = f1_score(y_test_s, preds, pos_label=1)\n",
    "\n",
    "    if f1 > best_f1:\n",
    "        best_f1 = f1\n",
    "        best_percentile = p\n",
    "        best_thresh = thresh\n",
    "        best_preds = preds\n",
    "        best_cm = confusion_matrix(y_test_s, preds)\n",
    "        best_report = classification_report(y_test_s, preds, digits=3)\n",
    "\n",
    "# Print only the best threshold\n",
    "print(\"Best Threshold for Synthetic Dataset (KNN Anomaly Score)\")\n",
    "print(f\"Percentile: {best_percentile}th\")\n",
    "print(f\"Threshold value: {best_thresh:.4f}\")\n",
    "print(\"Confusion Matrix:\")\n",
    "print(best_cm)\n",
    "print(best_report)\n"
   ]
  },
  {
   "cell_type": "code",
   "execution_count": null,
   "id": "c2d14b0d-1133-4fcb-a570-c22155bf6295",
   "metadata": {},
   "outputs": [],
   "source": []
  }
 ],
 "metadata": {
  "kernelspec": {
   "display_name": "Python [conda env:base] *",
   "language": "python",
   "name": "conda-base-py"
  },
  "language_info": {
   "codemirror_mode": {
    "name": "ipython",
    "version": 3
   },
   "file_extension": ".py",
   "mimetype": "text/x-python",
   "name": "python",
   "nbconvert_exporter": "python",
   "pygments_lexer": "ipython3",
   "version": "3.12.7"
  }
 },
 "nbformat": 4,
 "nbformat_minor": 5
}
